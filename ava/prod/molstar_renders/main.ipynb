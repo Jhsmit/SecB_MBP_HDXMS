{
 "cells": [
  {
   "cell_type": "code",
   "execution_count": null,
   "metadata": {},
   "outputs": [],
   "source": [
    "\n",
    "from ipymolstar import PDBeMolstar\n",
    "from hal.config import cfg\n",
    "from hal.repro import reproduce\n",
    "from pyhdx.fileIO import csv_to_dataframe\n",
    "from pyhdx.plot import CMAP_NORM_DEFAULTS\n",
    "from ultraplot import to_hex\n",
    "import pandas as pd\n",
    "from ipywidgets import HBox, VBox, Label, Layout\n"
   ]
  },
  {
   "cell_type": "code",
   "execution_count": null,
   "metadata": {},
   "outputs": [],
   "source": [
    "\n",
    "packages = [\"pyhdx\", \"hdxms_datasets\"]\n",
    "# OUTPUT_PATH = reproduce(globals(), packages=packages)\n",
    "DG_CMAP, DG_NORM = CMAP_NORM_DEFAULTS[\"dG\"]\n",
    "DG_PTH = cfg.prod_output_path(\"bottom_up_deltaGs\")\n",
    "\n"
   ]
  },
  {
   "cell_type": "code",
   "execution_count": null,
   "metadata": {},
   "outputs": [],
   "source": [
    "\n",
    "\n",
    "def make_color_data(df: pd.DataFrame):\n",
    "    data = []\n",
    "    for i in range(len(df)):\n",
    "        row = df.reset_index().iloc[i, :].to_dict()\n",
    "        r_number = row[\"r_number\"]\n",
    "\n",
    "        hex_color = to_hex(DG_CMAP(DG_NORM(row[\"dG\"])), keep_alpha=False)\n",
    "        elem = {\"residue_number\": r_number, \"color\": hex_color}\n",
    "        data.append(elem)\n",
    "\n",
    "    color_data = {\"data\": data, \"nonSelectedColor\": None}\n",
    "\n",
    "    return color_data\n",
    "\n",
    "\n",
    "def make_tooltips(r_number, values, qty=\"ΔG\", unit=\"kJ/mol\"):\n",
    "    tooltips = {\n",
    "        \"data\": [\n",
    "            {\"residue_number\": int(resi), \"tooltip\": f\"{qty}: {value:.2f} {unit}\"}\n",
    "            for resi, value in zip(r_number, values)\n",
    "        ]\n",
    "    }\n",
    "    return tooltips\n",
    "\n"
   ]
  },
  {
   "cell_type": "code",
   "execution_count": null,
   "metadata": {},
   "outputs": [],
   "source": [
    "protein_names = [\"MBP_p101\", \"MBP_wt\", \"MBP_Y283D\"]\n",
    "\n",
    "frames = {}\n",
    "for protein_name in protein_names:\n",
    "    df = csv_to_dataframe(DG_PTH / f\"gibbs_fit_{protein_name}\" / \"fit_result.csv\")[\n",
    "        protein_name\n",
    "    ].reset_index()\n",
    "    frames[protein_name] = df\n",
    "\n",
    "columns = {}\n",
    "for protein_name, df in frames.items():\n",
    "    color_data = make_color_data(df)\n",
    "    tooltips = make_tooltips(df[\"r_number\"], df[\"dG\"] * 1e-3)\n",
    "\n",
    "    view = PDBeMolstar(\n",
    "        molecule_id=\"1anf\",\n",
    "        hide_water=True,\n",
    "        hide_carbs=True,\n",
    "        color_data=color_data,\n",
    "        tooltips=tooltips,\n",
    "        layout=Layout(width=\"100%\"),\n",
    "    )\n",
    "    title = Label(value=protein_name)\n",
    "    columns[protein_name] = VBox([title, view], layout=Layout(width=\"32.5%\"))\n",
    "\n"
   ]
  },
  {
   "cell_type": "code",
   "execution_count": null,
   "metadata": {},
   "outputs": [],
   "source": [
    "\n",
    "HBox(list(columns.values()))\n",
    "\n"
   ]
  },
  {
   "cell_type": "code",
   "execution_count": null,
   "metadata": {},
   "outputs": [],
   "source": []
  }
 ],
 "metadata": {
  "language_info": {
   "codemirror_mode": {
    "name": "ipython",
    "version": 3
   },
   "file_extension": ".py",
   "mimetype": "text/x-python",
   "name": "python",
   "nbconvert_exporter": "python",
   "pygments_lexer": "ipython3",
   "version": 3
  }
 },
 "nbformat": 4,
 "nbformat_minor": 2
}
